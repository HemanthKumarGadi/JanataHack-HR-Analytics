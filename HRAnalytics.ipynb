{
  "nbformat": 4,
  "nbformat_minor": 0,
  "metadata": {
    "colab": {
      "name": "LinearRegress.ipynb",
      "provenance": [],
      "collapsed_sections": []
    },
    "kernelspec": {
      "name": "python3",
      "display_name": "Python 3"
    }
  },
  "cells": [
    {
      "cell_type": "code",
      "metadata": {
        "id": "ornYeLQsq-NL",
        "colab_type": "code",
        "colab": {}
      },
      "source": [
        "import numpy as np\n",
        "import pandas as pd\n",
        "from sklearn.linear_model import LinearRegression\n",
        "from matplotlib import pyplot as plt"
      ],
      "execution_count": 0,
      "outputs": []
    },
    {
      "cell_type": "code",
      "metadata": {
        "id": "sZ_c4dmhwpnd",
        "colab_type": "code",
        "colab": {}
      },
      "source": [
        "train = pd.read_csv('/content/train_jqd04QH.csv')\n",
        "test = pd.read_csv('/content/test_KaymcHn.csv')\n",
        "sub = pd.read_csv('/content/sample_submission_sxfcbdx.csv')"
      ],
      "execution_count": 0,
      "outputs": []
    },
    {
      "cell_type": "code",
      "metadata": {
        "id": "kt2XkQ-rxB0X",
        "colab_type": "code",
        "outputId": "5e46c624-e573-4fcf-afe9-3611139b4534",
        "colab": {
          "base_uri": "https://localhost:8080/",
          "height": 173
        }
      },
      "source": [
        "print (train.head())\n",
        "print (train.shape)\n"
      ],
      "execution_count": 3,
      "outputs": [
        {
          "output_type": "stream",
          "text": [
            "   enrollee_id      city  ...  training_hours target\n",
            "0        23798  city_149  ...             106      0\n",
            "1        29166   city_83  ...              69      0\n",
            "2           46   city_16  ...               4      0\n",
            "3        18527   city_64  ...              26      0\n",
            "4        21751  city_100  ...              88      1\n",
            "\n",
            "[5 rows x 14 columns]\n",
            "(18359, 14)\n"
          ],
          "name": "stdout"
        }
      ]
    },
    {
      "cell_type": "code",
      "metadata": {
        "id": "FasMky_sx30V",
        "colab_type": "code",
        "outputId": "b6b158c9-66fd-437e-fd5a-9add6c4e3f6f",
        "colab": {
          "base_uri": "https://localhost:8080/",
          "height": 173
        }
      },
      "source": [
        "print (test.head())\n",
        "print (test.shape)"
      ],
      "execution_count": 4,
      "outputs": [
        {
          "output_type": "stream",
          "text": [
            "   enrollee_id      city  ...  last_new_job training_hours\n",
            "0        16548   city_33  ...           NaN             15\n",
            "1        12036   city_28  ...             1             94\n",
            "2        11061  city_103  ...             1             17\n",
            "3         5032  city_104  ...             2             76\n",
            "4        17599   city_77  ...             2             65\n",
            "\n",
            "[5 rows x 13 columns]\n",
            "(15021, 13)\n"
          ],
          "name": "stdout"
        }
      ]
    },
    {
      "cell_type": "code",
      "metadata": {
        "id": "9VRHRJGtxDiD",
        "colab_type": "code",
        "outputId": "cbf9b3f7-b5c4-4963-91ad-f12b66076308",
        "colab": {
          "base_uri": "https://localhost:8080/",
          "height": 278
        }
      },
      "source": [
        "train.isnull().any()"
      ],
      "execution_count": 5,
      "outputs": [
        {
          "output_type": "execute_result",
          "data": {
            "text/plain": [
              "enrollee_id               False\n",
              "city                      False\n",
              "city_development_index    False\n",
              "gender                     True\n",
              "relevent_experience       False\n",
              "enrolled_university        True\n",
              "education_level            True\n",
              "major_discipline           True\n",
              "experience                 True\n",
              "company_size               True\n",
              "company_type               True\n",
              "last_new_job               True\n",
              "training_hours            False\n",
              "target                    False\n",
              "dtype: bool"
            ]
          },
          "metadata": {
            "tags": []
          },
          "execution_count": 5
        }
      ]
    },
    {
      "cell_type": "code",
      "metadata": {
        "id": "tKQPKnf2huyg",
        "colab_type": "code",
        "outputId": "dd90ce9e-9b98-4c68-d51e-039ca4db9493",
        "colab": {
          "base_uri": "https://localhost:8080/",
          "height": 278
        }
      },
      "source": [
        "train.isnull().sum()"
      ],
      "execution_count": 0,
      "outputs": [
        {
          "output_type": "execute_result",
          "data": {
            "text/plain": [
              "enrollee_id                  0\n",
              "city                         0\n",
              "city_development_index       0\n",
              "gender                    4098\n",
              "relevent_experience          0\n",
              "enrolled_university        342\n",
              "education_level            457\n",
              "major_discipline          2838\n",
              "experience                  59\n",
              "company_size              4779\n",
              "company_type              5039\n",
              "last_new_job               367\n",
              "training_hours               0\n",
              "target                       0\n",
              "dtype: int64"
            ]
          },
          "metadata": {
            "tags": []
          },
          "execution_count": 10
        }
      ]
    },
    {
      "cell_type": "code",
      "metadata": {
        "id": "5nu2qtlMx7R_",
        "colab_type": "code",
        "outputId": "34e4741d-32f5-49c0-8cec-daded67da74e",
        "colab": {
          "base_uri": "https://localhost:8080/",
          "height": 260
        }
      },
      "source": [
        "test.isnull().any()"
      ],
      "execution_count": 0,
      "outputs": [
        {
          "output_type": "execute_result",
          "data": {
            "text/plain": [
              "enrollee_id               False\n",
              "city                      False\n",
              "city_development_index    False\n",
              "gender                     True\n",
              "relevent_experience       False\n",
              "enrolled_university        True\n",
              "education_level            True\n",
              "major_discipline           True\n",
              "experience                 True\n",
              "company_size               True\n",
              "company_type               True\n",
              "last_new_job               True\n",
              "training_hours            False\n",
              "dtype: bool"
            ]
          },
          "metadata": {
            "tags": []
          },
          "execution_count": 9
        }
      ]
    },
    {
      "cell_type": "code",
      "metadata": {
        "id": "r7wAMkfYh03J",
        "colab_type": "code",
        "outputId": "e9468bd0-4c73-4e73-d2db-ce09684ddc5e",
        "colab": {
          "base_uri": "https://localhost:8080/",
          "height": 260
        }
      },
      "source": [
        "test.isnull().sum()"
      ],
      "execution_count": 0,
      "outputs": [
        {
          "output_type": "execute_result",
          "data": {
            "text/plain": [
              "enrollee_id                  0\n",
              "city                         0\n",
              "city_development_index       0\n",
              "gender                    3388\n",
              "relevent_experience          0\n",
              "enrolled_university        279\n",
              "education_level            395\n",
              "major_discipline          2393\n",
              "experience                  44\n",
              "company_size              4051\n",
              "company_type              4330\n",
              "last_new_job               304\n",
              "training_hours               0\n",
              "dtype: int64"
            ]
          },
          "metadata": {
            "tags": []
          },
          "execution_count": 12
        }
      ]
    },
    {
      "cell_type": "code",
      "metadata": {
        "id": "IaFDJbFyPvP-",
        "colab_type": "code",
        "outputId": "942938d4-4089-421c-aa36-780de9f1e3c7",
        "colab": {
          "base_uri": "https://localhost:8080/",
          "height": 313
        }
      },
      "source": [
        "train.head()"
      ],
      "execution_count": 0,
      "outputs": [
        {
          "output_type": "execute_result",
          "data": {
            "text/html": [
              "<div>\n",
              "<style scoped>\n",
              "    .dataframe tbody tr th:only-of-type {\n",
              "        vertical-align: middle;\n",
              "    }\n",
              "\n",
              "    .dataframe tbody tr th {\n",
              "        vertical-align: top;\n",
              "    }\n",
              "\n",
              "    .dataframe thead th {\n",
              "        text-align: right;\n",
              "    }\n",
              "</style>\n",
              "<table border=\"1\" class=\"dataframe\">\n",
              "  <thead>\n",
              "    <tr style=\"text-align: right;\">\n",
              "      <th></th>\n",
              "      <th>enrollee_id</th>\n",
              "      <th>city</th>\n",
              "      <th>city_development_index</th>\n",
              "      <th>gender</th>\n",
              "      <th>relevent_experience</th>\n",
              "      <th>enrolled_university</th>\n",
              "      <th>education_level</th>\n",
              "      <th>major_discipline</th>\n",
              "      <th>experience</th>\n",
              "      <th>company_size</th>\n",
              "      <th>company_type</th>\n",
              "      <th>last_new_job</th>\n",
              "      <th>training_hours</th>\n",
              "      <th>target</th>\n",
              "    </tr>\n",
              "  </thead>\n",
              "  <tbody>\n",
              "    <tr>\n",
              "      <th>0</th>\n",
              "      <td>23798</td>\n",
              "      <td>city_149</td>\n",
              "      <td>0.689</td>\n",
              "      <td>Male</td>\n",
              "      <td>Has relevent experience</td>\n",
              "      <td>no_enrollment</td>\n",
              "      <td>Graduate</td>\n",
              "      <td>STEM</td>\n",
              "      <td>3</td>\n",
              "      <td>100-500</td>\n",
              "      <td>Pvt Ltd</td>\n",
              "      <td>1</td>\n",
              "      <td>106</td>\n",
              "      <td>0</td>\n",
              "    </tr>\n",
              "    <tr>\n",
              "      <th>1</th>\n",
              "      <td>29166</td>\n",
              "      <td>city_83</td>\n",
              "      <td>0.923</td>\n",
              "      <td>Male</td>\n",
              "      <td>Has relevent experience</td>\n",
              "      <td>no_enrollment</td>\n",
              "      <td>Graduate</td>\n",
              "      <td>STEM</td>\n",
              "      <td>14</td>\n",
              "      <td>&lt;10</td>\n",
              "      <td>Funded Startup</td>\n",
              "      <td>1</td>\n",
              "      <td>69</td>\n",
              "      <td>0</td>\n",
              "    </tr>\n",
              "    <tr>\n",
              "      <th>2</th>\n",
              "      <td>46</td>\n",
              "      <td>city_16</td>\n",
              "      <td>0.910</td>\n",
              "      <td>NaN</td>\n",
              "      <td>Has relevent experience</td>\n",
              "      <td>no_enrollment</td>\n",
              "      <td>Graduate</td>\n",
              "      <td>STEM</td>\n",
              "      <td>6</td>\n",
              "      <td>50-99</td>\n",
              "      <td>Public Sector</td>\n",
              "      <td>2</td>\n",
              "      <td>4</td>\n",
              "      <td>0</td>\n",
              "    </tr>\n",
              "    <tr>\n",
              "      <th>3</th>\n",
              "      <td>18527</td>\n",
              "      <td>city_64</td>\n",
              "      <td>0.666</td>\n",
              "      <td>Male</td>\n",
              "      <td>Has relevent experience</td>\n",
              "      <td>no_enrollment</td>\n",
              "      <td>Graduate</td>\n",
              "      <td>STEM</td>\n",
              "      <td>14</td>\n",
              "      <td>50-99</td>\n",
              "      <td>Pvt Ltd</td>\n",
              "      <td>1</td>\n",
              "      <td>26</td>\n",
              "      <td>0</td>\n",
              "    </tr>\n",
              "    <tr>\n",
              "      <th>4</th>\n",
              "      <td>21751</td>\n",
              "      <td>city_100</td>\n",
              "      <td>0.887</td>\n",
              "      <td>NaN</td>\n",
              "      <td>No relevent experience</td>\n",
              "      <td>no_enrollment</td>\n",
              "      <td>Masters</td>\n",
              "      <td>STEM</td>\n",
              "      <td>8</td>\n",
              "      <td>NaN</td>\n",
              "      <td>NaN</td>\n",
              "      <td>2</td>\n",
              "      <td>88</td>\n",
              "      <td>1</td>\n",
              "    </tr>\n",
              "  </tbody>\n",
              "</table>\n",
              "</div>"
            ],
            "text/plain": [
              "   enrollee_id      city  ...  training_hours target\n",
              "0        23798  city_149  ...             106      0\n",
              "1        29166   city_83  ...              69      0\n",
              "2           46   city_16  ...               4      0\n",
              "3        18527   city_64  ...              26      0\n",
              "4        21751  city_100  ...              88      1\n",
              "\n",
              "[5 rows x 14 columns]"
            ]
          },
          "metadata": {
            "tags": []
          },
          "execution_count": 13
        }
      ]
    },
    {
      "cell_type": "code",
      "metadata": {
        "id": "SK_8B8iYh9vb",
        "colab_type": "code",
        "outputId": "7317e696-40e2-4a24-8cc2-c523c937dc89",
        "colab": {
          "base_uri": "https://localhost:8080/",
          "height": 296
        }
      },
      "source": [
        "import seaborn as sns\n",
        "sns.countplot(train['target'])"
      ],
      "execution_count": 0,
      "outputs": [
        {
          "output_type": "execute_result",
          "data": {
            "text/plain": [
              "<matplotlib.axes._subplots.AxesSubplot at 0x7f901a214710>"
            ]
          },
          "metadata": {
            "tags": []
          },
          "execution_count": 15
        },
        {
          "output_type": "display_data",
          "data": {
            "image/png": "[encoded data removed]",
            "text/plain": [
              "<Figure size 432x288 with 1 Axes>"
            ]
          },
          "metadata": {
            "tags": [],
            "needs_background": "light"
          }
        }
      ]
    },
    {
      "cell_type": "markdown",
      "metadata": {
        "id": "_zLEpCNZiRZQ",
        "colab_type": "text"
      },
      "source": [
        "Imbalanced Dataset"
      ]
    },
    {
      "cell_type": "code",
      "metadata": {
        "id": "HX7znzWYiM-V",
        "colab_type": "code",
        "outputId": "426d8a0f-50ef-46a1-a71c-a60ea94d66a2",
        "colab": {
          "base_uri": "https://localhost:8080/",
          "height": 104
        }
      },
      "source": [
        "train.columns"
      ],
      "execution_count": 0,
      "outputs": [
        {
          "output_type": "execute_result",
          "data": {
            "text/plain": [
              "Index(['enrollee_id', 'city', 'city_development_index', 'gender',\n",
              "       'relevent_experience', 'enrolled_university', 'education_level',\n",
              "       'major_discipline', 'experience', 'company_size', 'company_type',\n",
              "       'last_new_job', 'training_hours', 'target'],\n",
              "      dtype='object')"
            ]
          },
          "metadata": {
            "tags": []
          },
          "execution_count": 18
        }
      ]
    },
    {
      "cell_type": "code",
      "metadata": {
        "id": "LucZWIL1oVKx",
        "colab_type": "code",
        "outputId": "5d4a8b9b-d506-4be7-da2f-10fb8e3f9bb0",
        "colab": {
          "base_uri": "https://localhost:8080/",
          "height": 278
        }
      },
      "source": [
        "train.isnull().sum()"
      ],
      "execution_count": 0,
      "outputs": [
        {
          "output_type": "execute_result",
          "data": {
            "text/plain": [
              "enrollee_id                  0\n",
              "city                         0\n",
              "city_development_index       0\n",
              "gender                    4098\n",
              "relevent_experience          0\n",
              "enrolled_university        342\n",
              "education_level            457\n",
              "major_discipline          2838\n",
              "experience                  59\n",
              "company_size              4779\n",
              "company_type              5039\n",
              "last_new_job               367\n",
              "training_hours               0\n",
              "target                       0\n",
              "dtype: int64"
            ]
          },
          "metadata": {
            "tags": []
          },
          "execution_count": 39
        }
      ]
    },
    {
      "cell_type": "code",
      "metadata": {
        "id": "5Sf1z8xVpjkd",
        "colab_type": "code",
        "outputId": "bf70aabc-9461-4cba-9c27-8b7a0079b516",
        "colab": {
          "base_uri": "https://localhost:8080/",
          "height": 173
        }
      },
      "source": [
        "miss = train.isnull().sum()/len(train)\n",
        "miss = miss[miss > 0]\n",
        "miss.sort_values(inplace=True)\n",
        "miss"
      ],
      "execution_count": 0,
      "outputs": [
        {
          "output_type": "execute_result",
          "data": {
            "text/plain": [
              "experience             0.003214\n",
              "enrolled_university    0.018628\n",
              "last_new_job           0.019990\n",
              "education_level        0.024892\n",
              "major_discipline       0.154584\n",
              "gender                 0.223215\n",
              "company_size           0.260308\n",
              "company_type           0.274470\n",
              "dtype: float64"
            ]
          },
          "metadata": {
            "tags": []
          },
          "execution_count": 40
        }
      ]
    },
    {
      "cell_type": "code",
      "metadata": {
        "id": "QgE65cxep5NV",
        "colab_type": "code",
        "colab": {}
      },
      "source": [
        "numeric_data = train.select_dtypes(include=[np.number])"
      ],
      "execution_count": 0,
      "outputs": []
    },
    {
      "cell_type": "code",
      "metadata": {
        "id": "WwuDS443qM7O",
        "colab_type": "code",
        "colab": {}
      },
      "source": [
        "del numeric_data['enrollee_id']"
      ],
      "execution_count": 0,
      "outputs": []
    },
    {
      "cell_type": "code",
      "metadata": {
        "id": "8uRiTxMIqGpF",
        "colab_type": "code",
        "outputId": "9773a8b8-4bc4-404e-da2c-0a6e3296122e",
        "colab": {
          "base_uri": "https://localhost:8080/",
          "height": 398
        }
      },
      "source": [
        "corr = numeric_data.corr()\n",
        "sns.heatmap(corr)"
      ],
      "execution_count": 0,
      "outputs": [
        {
          "output_type": "execute_result",
          "data": {
            "text/plain": [
              "<matplotlib.axes._subplots.AxesSubplot at 0x7f9015f81eb8>"
            ]
          },
          "metadata": {
            "tags": []
          },
          "execution_count": 44
        },
        {
          "output_type": "display_data",
          "data": {
            "image/png": "[encoded data removed]",
            "text/plain": [
              "<Figure size 432x288 with 2 Axes>"
            ]
          },
          "metadata": {
            "tags": [],
            "needs_background": "light"
          }
        }
      ]
    },
    {
      "cell_type": "code",
      "metadata": {
        "id": "pRyUWsDcqJYe",
        "colab_type": "code",
        "outputId": "c571eee4-7f3c-4260-a3e9-58dc8e3f55b2",
        "colab": {
          "base_uri": "https://localhost:8080/",
          "height": 86
        }
      },
      "source": [
        "print (corr['target'].sort_values(ascending=False))"
      ],
      "execution_count": 0,
      "outputs": [
        {
          "output_type": "stream",
          "text": [
            "target                    1.000000\n",
            "training_hours           -0.004735\n",
            "city_development_index   -0.135700\n",
            "Name: target, dtype: float64\n"
          ],
          "name": "stdout"
        }
      ]
    },
    {
      "cell_type": "markdown",
      "metadata": {
        "id": "txG2rldzqgbs",
        "colab_type": "text"
      },
      "source": [
        "No correaltion between numeric values"
      ]
    },
    {
      "cell_type": "markdown",
      "metadata": {
        "id": "ApOAxr7osVf3",
        "colab_type": "text"
      },
      "source": [
        "#Impute Missing Values"
      ]
    },
    {
      "cell_type": "code",
      "metadata": {
        "id": "FzfyllTwsXDc",
        "colab_type": "code",
        "outputId": "ced65e54-08ae-4b73-b7cf-7faf668fa315",
        "colab": {
          "base_uri": "https://localhost:8080/",
          "height": 313
        }
      },
      "source": [
        "train.head()"
      ],
      "execution_count": 0,
      "outputs": [
        {
          "output_type": "execute_result",
          "data": {
            "text/html": [
              "<div>\n",
              "<style scoped>\n",
              "    .dataframe tbody tr th:only-of-type {\n",
              "        vertical-align: middle;\n",
              "    }\n",
              "\n",
              "    .dataframe tbody tr th {\n",
              "        vertical-align: top;\n",
              "    }\n",
              "\n",
              "    .dataframe thead th {\n",
              "        text-align: right;\n",
              "    }\n",
              "</style>\n",
              "<table border=\"1\" class=\"dataframe\">\n",
              "  <thead>\n",
              "    <tr style=\"text-align: right;\">\n",
              "      <th></th>\n",
              "      <th>enrollee_id</th>\n",
              "      <th>city</th>\n",
              "      <th>city_development_index</th>\n",
              "      <th>gender</th>\n",
              "      <th>relevent_experience</th>\n",
              "      <th>enrolled_university</th>\n",
              "      <th>education_level</th>\n",
              "      <th>major_discipline</th>\n",
              "      <th>experience</th>\n",
              "      <th>company_size</th>\n",
              "      <th>company_type</th>\n",
              "      <th>last_new_job</th>\n",
              "      <th>training_hours</th>\n",
              "      <th>target</th>\n",
              "    </tr>\n",
              "  </thead>\n",
              "  <tbody>\n",
              "    <tr>\n",
              "      <th>0</th>\n",
              "      <td>23798</td>\n",
              "      <td>city_149</td>\n",
              "      <td>0.689</td>\n",
              "      <td>Male</td>\n",
              "      <td>Has relevent experience</td>\n",
              "      <td>no_enrollment</td>\n",
              "      <td>Graduate</td>\n",
              "      <td>STEM</td>\n",
              "      <td>3</td>\n",
              "      <td>100-500</td>\n",
              "      <td>Pvt Ltd</td>\n",
              "      <td>1</td>\n",
              "      <td>106</td>\n",
              "      <td>0</td>\n",
              "    </tr>\n",
              "    <tr>\n",
              "      <th>1</th>\n",
              "      <td>29166</td>\n",
              "      <td>city_83</td>\n",
              "      <td>0.923</td>\n",
              "      <td>Male</td>\n",
              "      <td>Has relevent experience</td>\n",
              "      <td>no_enrollment</td>\n",
              "      <td>Graduate</td>\n",
              "      <td>STEM</td>\n",
              "      <td>14</td>\n",
              "      <td>10</td>\n",
              "      <td>Funded Startup</td>\n",
              "      <td>1</td>\n",
              "      <td>69</td>\n",
              "      <td>0</td>\n",
              "    </tr>\n",
              "    <tr>\n",
              "      <th>2</th>\n",
              "      <td>46</td>\n",
              "      <td>city_16</td>\n",
              "      <td>0.910</td>\n",
              "      <td>NaN</td>\n",
              "      <td>Has relevent experience</td>\n",
              "      <td>no_enrollment</td>\n",
              "      <td>Graduate</td>\n",
              "      <td>STEM</td>\n",
              "      <td>6</td>\n",
              "      <td>50-99</td>\n",
              "      <td>Public Sector</td>\n",
              "      <td>2</td>\n",
              "      <td>4</td>\n",
              "      <td>0</td>\n",
              "    </tr>\n",
              "    <tr>\n",
              "      <th>3</th>\n",
              "      <td>18527</td>\n",
              "      <td>city_64</td>\n",
              "      <td>0.666</td>\n",
              "      <td>Male</td>\n",
              "      <td>Has relevent experience</td>\n",
              "      <td>no_enrollment</td>\n",
              "      <td>Graduate</td>\n",
              "      <td>STEM</td>\n",
              "      <td>14</td>\n",
              "      <td>50-99</td>\n",
              "      <td>Pvt Ltd</td>\n",
              "      <td>1</td>\n",
              "      <td>26</td>\n",
              "      <td>0</td>\n",
              "    </tr>\n",
              "    <tr>\n",
              "      <th>4</th>\n",
              "      <td>21751</td>\n",
              "      <td>city_100</td>\n",
              "      <td>0.887</td>\n",
              "      <td>NaN</td>\n",
              "      <td>No relevent experience</td>\n",
              "      <td>no_enrollment</td>\n",
              "      <td>Masters</td>\n",
              "      <td>STEM</td>\n",
              "      <td>8</td>\n",
              "      <td>NaN</td>\n",
              "      <td>NaN</td>\n",
              "      <td>2</td>\n",
              "      <td>88</td>\n",
              "      <td>1</td>\n",
              "    </tr>\n",
              "  </tbody>\n",
              "</table>\n",
              "</div>"
            ],
            "text/plain": [
              "   enrollee_id      city  ...  training_hours target\n",
              "0        23798  city_149  ...             106      0\n",
              "1        29166   city_83  ...              69      0\n",
              "2           46   city_16  ...               4      0\n",
              "3        18527   city_64  ...              26      0\n",
              "4        21751  city_100  ...              88      1\n",
              "\n",
              "[5 rows x 14 columns]"
            ]
          },
          "metadata": {
            "tags": []
          },
          "execution_count": 49
        }
      ]
    },
    {
      "cell_type": "code",
      "metadata": {
        "id": "aZ-JXBPv8Esf",
        "colab_type": "code",
        "colab": {}
      },
      "source": [
        "df =train"
      ],
      "execution_count": 0,
      "outputs": []
    },
    {
      "cell_type": "code",
      "metadata": {
        "id": "Vv2XTYz6-aAh",
        "colab_type": "code",
        "colab": {
          "base_uri": "https://localhost:8080/",
          "height": 34
        },
        "outputId": "f5383243-184a-4cdf-d596-00db495e7973"
      },
      "source": [
        "data= train.append(test)\n",
        "data.shape\n",
        "\n"
      ],
      "execution_count": 29,
      "outputs": [
        {
          "output_type": "execute_result",
          "data": {
            "text/plain": [
              "(33380, 14)"
            ]
          },
          "metadata": {
            "tags": []
          },
          "execution_count": 29
        }
      ]
    },
    {
      "cell_type": "code",
      "metadata": {
        "id": "D_ps5my4-kHi",
        "colab_type": "code",
        "colab": {}
      },
      "source": [
        "train['company_size'] = train['company_size'].str.replace('<','')\n",
        "train['experience'] = train['experience'].str.replace('>','')\n",
        "train['last_new_job'] = train['last_new_job'].str.replace('>','')\n",
        "train['company_size'] = train['company_size'].str.replace('+','')\n",
        "train['experience'] = train['experience'].str.replace('<','')"
      ],
      "execution_count": 0,
      "outputs": []
    },
    {
      "cell_type": "code",
      "metadata": {
        "id": "vdVAyYQeCsnM",
        "colab_type": "code",
        "colab": {}
      },
      "source": [
        "# Gender feature imputed with mode & converted to categorical\n",
        "train['gender']=train['gender'].map({'Male':1,'Female':0,'Other':2})\n",
        "train['gender']=train['gender'].fillna(1).astype('int')\n"
      ],
      "execution_count": 0,
      "outputs": []
    },
    {
      "cell_type": "code",
      "metadata": {
        "id": "okC8767K8KY0",
        "colab_type": "code",
        "colab": {
          "base_uri": "https://localhost:8080/",
          "height": 86
        },
        "outputId": "b0f14c6a-b147-42d6-a2b2-158264650b70"
      },
      "source": [
        "train['gender'].value_counts()"
      ],
      "execution_count": 64,
      "outputs": [
        {
          "output_type": "execute_result",
          "data": {
            "text/plain": [
              "1    16982\n",
              "0     1188\n",
              "2      189\n",
              "Name: gender, dtype: int64"
            ]
          },
          "metadata": {
            "tags": []
          },
          "execution_count": 64
        }
      ]
    },
    {
      "cell_type": "code",
      "metadata": {
        "id": "k9WyW8wx8T32",
        "colab_type": "code",
        "colab": {
          "base_uri": "https://localhost:8080/",
          "height": 86
        },
        "outputId": "ccdd627f-44f4-448b-8f9a-e3ca1825f75d"
      },
      "source": [
        "train['enrolled_university'].value_counts()"
      ],
      "execution_count": 65,
      "outputs": [
        {
          "output_type": "execute_result",
          "data": {
            "text/plain": [
              "no_enrollment       13659\n",
              "Full time course     3187\n",
              "Part time course     1171\n",
              "Name: enrolled_university, dtype: int64"
            ]
          },
          "metadata": {
            "tags": []
          },
          "execution_count": 65
        }
      ]
    },
    {
      "cell_type": "code",
      "metadata": {
        "id": "7PNsgN-j8w98",
        "colab_type": "code",
        "colab": {}
      },
      "source": [
        "train['enrolled_university']=train['enrolled_university'].fillna('no_enrollment')"
      ],
      "execution_count": 0,
      "outputs": []
    },
    {
      "cell_type": "code",
      "metadata": {
        "id": "38M5l2Ud8iVX",
        "colab_type": "code",
        "colab": {}
      },
      "source": [
        "from sklearn.preprocessing import LabelEncoder\n",
        "le=LabelEncoder()\n",
        "train['enrolled_university']=le.fit_transform(train['enrolled_university'])"
      ],
      "execution_count": 0,
      "outputs": []
    },
    {
      "cell_type": "code",
      "metadata": {
        "id": "Bd5P8ZP682k-",
        "colab_type": "code",
        "colab": {
          "base_uri": "https://localhost:8080/",
          "height": 121
        },
        "outputId": "485bd275-d964-4d5e-9321-197969fa124a"
      },
      "source": [
        "train['education_level'].value_counts()"
      ],
      "execution_count": 68,
      "outputs": [
        {
          "output_type": "execute_result",
          "data": {
            "text/plain": [
              "Graduate          10769\n",
              "Masters            4319\n",
              "High School        2032\n",
              "Phd                 459\n",
              "Primary School      323\n",
              "Name: education_level, dtype: int64"
            ]
          },
          "metadata": {
            "tags": []
          },
          "execution_count": 68
        }
      ]
    },
    {
      "cell_type": "code",
      "metadata": {
        "id": "4tAXcLQs9Gof",
        "colab_type": "code",
        "colab": {}
      },
      "source": [
        "train['education_level']=train['education_level'].fillna('Graduate')\n",
        "train['education_level']=le.fit_transform(train['education_level'])"
      ],
      "execution_count": 0,
      "outputs": []
    },
    {
      "cell_type": "code",
      "metadata": {
        "id": "A6b4uO2x9k01",
        "colab_type": "code",
        "colab": {
          "base_uri": "https://localhost:8080/",
          "height": 278
        },
        "outputId": "011f503a-0dc8-4745-e4b9-acf1f9215489"
      },
      "source": [
        "train.isnull().sum()"
      ],
      "execution_count": 70,
      "outputs": [
        {
          "output_type": "execute_result",
          "data": {
            "text/plain": [
              "enrollee_id                  0\n",
              "city                         0\n",
              "city_development_index       0\n",
              "gender                       0\n",
              "relevent_experience          0\n",
              "enrolled_university          0\n",
              "education_level              0\n",
              "major_discipline          2838\n",
              "experience                  59\n",
              "company_size              4779\n",
              "company_type              5039\n",
              "last_new_job               367\n",
              "training_hours               0\n",
              "target                       0\n",
              "dtype: int64"
            ]
          },
          "metadata": {
            "tags": []
          },
          "execution_count": 70
        }
      ]
    },
    {
      "cell_type": "code",
      "metadata": {
        "id": "CJV0E0n59vK8",
        "colab_type": "code",
        "colab": {
          "base_uri": "https://localhost:8080/",
          "height": 139
        },
        "outputId": "34d978ba-9b1c-468c-aedc-d4c05e6bb204"
      },
      "source": [
        "train['major_discipline'].value_counts()"
      ],
      "execution_count": 71,
      "outputs": [
        {
          "output_type": "execute_result",
          "data": {
            "text/plain": [
              "STEM               13738\n",
              "Humanities           688\n",
              "Other                343\n",
              "Business Degree      307\n",
              "Arts                 239\n",
              "No Major             206\n",
              "Name: major_discipline, dtype: int64"
            ]
          },
          "metadata": {
            "tags": []
          },
          "execution_count": 71
        }
      ]
    },
    {
      "cell_type": "code",
      "metadata": {
        "id": "ufKOBj7kAox6",
        "colab_type": "code",
        "colab": {}
      },
      "source": [
        "train['major_discipline']=train['major_discipline'].fillna('STEM')\n",
        "train['major_discipline']=le.fit_transform(train['major_discipline'])"
      ],
      "execution_count": 0,
      "outputs": []
    },
    {
      "cell_type": "code",
      "metadata": {
        "id": "Aj0QSyr2_-IB",
        "colab_type": "code",
        "colab": {
          "base_uri": "https://localhost:8080/",
          "height": 382
        },
        "outputId": "dbd0f44d-dc34-4f55-e9b4-90a69dcc7880"
      },
      "source": [
        "train['experience'].value_counts()\n"
      ],
      "execution_count": 73,
      "outputs": [
        {
          "output_type": "execute_result",
          "data": {
            "text/plain": [
              "20    3583\n",
              "5     1309\n",
              "4     1250\n",
              "3     1159\n",
              "6     1125\n",
              "2      992\n",
              "9      979\n",
              "10     967\n",
              "7      950\n",
              "1      868\n",
              "8      755\n",
              "15     695\n",
              "11     667\n",
              "14     602\n",
              "16     549\n",
              "12     497\n",
              "13     412\n",
              "17     347\n",
              "19     308\n",
              "18     286\n",
              "Name: experience, dtype: int64"
            ]
          },
          "metadata": {
            "tags": []
          },
          "execution_count": 73
        }
      ]
    },
    {
      "cell_type": "code",
      "metadata": {
        "id": "dYIaN9xZAl1Z",
        "colab_type": "code",
        "colab": {}
      },
      "source": [
        "train['experience']=train['experience'].fillna('20')\n",
        "train['experience']=le.fit_transform(train['experience'])"
      ],
      "execution_count": 0,
      "outputs": []
    },
    {
      "cell_type": "code",
      "metadata": {
        "id": "Pga7OJ8A_lls",
        "colab_type": "code",
        "colab": {
          "base_uri": "https://localhost:8080/",
          "height": 173
        },
        "outputId": "a9d59301-2b1b-43ae-f2ba-350dcebe2c8e"
      },
      "source": [
        "train['company_size'].value_counts()"
      ],
      "execution_count": 76,
      "outputs": [
        {
          "output_type": "execute_result",
          "data": {
            "text/plain": [
              "50-99        3120\n",
              "100-500      2698\n",
              "10000        2044\n",
              "10/49        1466\n",
              "1000-4999    1399\n",
              "10           1360\n",
              "500-999       902\n",
              "5000-9999     591\n",
              "Name: company_size, dtype: int64"
            ]
          },
          "metadata": {
            "tags": []
          },
          "execution_count": 76
        }
      ]
    },
    {
      "cell_type": "code",
      "metadata": {
        "id": "ROdw8hCL_3Dn",
        "colab_type": "code",
        "colab": {}
      },
      "source": [
        "train['company_size'].replace({'10':'Startup','10/49':'Tier_0','50-99':'Tier_1','100-500':'Tier_2','500-999':'Tier_3',\n",
        "                            '1000-4999':'Tier_4','5000-9999':'Tier_5','10000':'Tier_6'},inplace=True)\n"
      ],
      "execution_count": 0,
      "outputs": []
    },
    {
      "cell_type": "code",
      "metadata": {
        "id": "oLXoAGi1BD_M",
        "colab_type": "code",
        "colab": {}
      },
      "source": [
        "train['company_size'].fillna('unknown', inplace=True)\n",
        "#df['race'].fillna(df.race.mode(), inplace=True)\n",
        "#combine['company_size'].fillna(\"Unknown\", inplace=True)"
      ],
      "execution_count": 0,
      "outputs": []
    },
    {
      "cell_type": "code",
      "metadata": {
        "id": "jXmQSBfkBdoK",
        "colab_type": "code",
        "colab": {
          "base_uri": "https://localhost:8080/",
          "height": 191
        },
        "outputId": "feff81cf-238a-4dfa-eb95-3f2dbcdb364f"
      },
      "source": [
        "train['company_size'].value_counts()"
      ],
      "execution_count": 87,
      "outputs": [
        {
          "output_type": "execute_result",
          "data": {
            "text/plain": [
              "unknown    4779\n",
              "Tier_1     3120\n",
              "Tier_2     2698\n",
              "Tier_6     2044\n",
              "Tier_0     1466\n",
              "Tier_4     1399\n",
              "Startup    1360\n",
              "Tier_3      902\n",
              "Tier_5      591\n",
              "Name: company_size, dtype: int64"
            ]
          },
          "metadata": {
            "tags": []
          },
          "execution_count": 87
        }
      ]
    },
    {
      "cell_type": "code",
      "metadata": {
        "id": "iwrJDYLgCFvd",
        "colab_type": "code",
        "colab": {
          "base_uri": "https://localhost:8080/",
          "height": 121
        },
        "outputId": "4b97a90d-c0f3-491f-a5c0-def70bde08cc"
      },
      "source": [
        "train['last_new_job'].value_counts()"
      ],
      "execution_count": 88,
      "outputs": [
        {
          "output_type": "execute_result",
          "data": {
            "text/plain": [
              "1        7567\n",
              "4        4377\n",
              "2        2835\n",
              "never    2186\n",
              "3        1027\n",
              "Name: last_new_job, dtype: int64"
            ]
          },
          "metadata": {
            "tags": []
          },
          "execution_count": 88
        }
      ]
    },
    {
      "cell_type": "code",
      "metadata": {
        "id": "mjmbI2cFCo0F",
        "colab_type": "code",
        "colab": {}
      },
      "source": [
        "train['last_new_job'].replace({'never':'0'},inplace=True)"
      ],
      "execution_count": 0,
      "outputs": []
    },
    {
      "cell_type": "code",
      "metadata": {
        "id": "s5L-X5fRDI3e",
        "colab_type": "code",
        "colab": {}
      },
      "source": [
        "train['last_new_job']=train['last_new_job'].fillna(1)\n",
        "train['last_new_job']=train['last_new_job'].astype('int')"
      ],
      "execution_count": 0,
      "outputs": []
    },
    {
      "cell_type": "code",
      "metadata": {
        "id": "XOxewTMuDm_o",
        "colab_type": "code",
        "colab": {
          "base_uri": "https://localhost:8080/",
          "height": 139
        },
        "outputId": "c4c6ae97-fa71-48a1-edae-52310f1a5df9"
      },
      "source": [
        "train['company_type'].value_counts()"
      ],
      "execution_count": 96,
      "outputs": [
        {
          "output_type": "execute_result",
          "data": {
            "text/plain": [
              "Pvt Ltd                10051\n",
              "Funded Startup          1038\n",
              "Public Sector            996\n",
              "Early Stage Startup      582\n",
              "NGO                      534\n",
              "Other                    119\n",
              "Name: company_type, dtype: int64"
            ]
          },
          "metadata": {
            "tags": []
          },
          "execution_count": 96
        }
      ]
    },
    {
      "cell_type": "code",
      "metadata": {
        "id": "GiTaF04zDz1e",
        "colab_type": "code",
        "colab": {}
      },
      "source": [
        "train['company_type']=train['company_type'].fillna('Unkown')\n",
        "train['company_type']=le.fit_transform(train['company_type'])\n",
        "\n"
      ],
      "execution_count": 0,
      "outputs": []
    },
    {
      "cell_type": "code",
      "metadata": {
        "id": "qWjGucc8FKpH",
        "colab_type": "code",
        "colab": {
          "base_uri": "https://localhost:8080/",
          "height": 278
        },
        "outputId": "a19b7f50-f6da-4d32-fd86-23b2ec025846"
      },
      "source": [
        "train.isnull().sum()"
      ],
      "execution_count": 99,
      "outputs": [
        {
          "output_type": "execute_result",
          "data": {
            "text/plain": [
              "enrollee_id               0\n",
              "city                      0\n",
              "city_development_index    0\n",
              "gender                    0\n",
              "relevent_experience       0\n",
              "enrolled_university       0\n",
              "education_level           0\n",
              "major_discipline          0\n",
              "experience                0\n",
              "company_size              0\n",
              "company_type              0\n",
              "last_new_job              0\n",
              "training_hours            0\n",
              "target                    0\n",
              "dtype: int64"
            ]
          },
          "metadata": {
            "tags": []
          },
          "execution_count": 99
        }
      ]
    },
    {
      "cell_type": "code",
      "metadata": {
        "id": "z5vJO-nZFPaq",
        "colab_type": "code",
        "colab": {
          "base_uri": "https://localhost:8080/",
          "height": 313
        },
        "outputId": "938083f7-9483-47c1-a4a7-0481b22b47a4"
      },
      "source": [
        "train.head()"
      ],
      "execution_count": 100,
      "outputs": [
        {
          "output_type": "execute_result",
          "data": {
            "text/html": [
              "<div>\n",
              "<style scoped>\n",
              "    .dataframe tbody tr th:only-of-type {\n",
              "        vertical-align: middle;\n",
              "    }\n",
              "\n",
              "    .dataframe tbody tr th {\n",
              "        vertical-align: top;\n",
              "    }\n",
              "\n",
              "    .dataframe thead th {\n",
              "        text-align: right;\n",
              "    }\n",
              "</style>\n",
              "<table border=\"1\" class=\"dataframe\">\n",
              "  <thead>\n",
              "    <tr style=\"text-align: right;\">\n",
              "      <th></th>\n",
              "      <th>enrollee_id</th>\n",
              "      <th>city</th>\n",
              "      <th>city_development_index</th>\n",
              "      <th>gender</th>\n",
              "      <th>relevent_experience</th>\n",
              "      <th>enrolled_university</th>\n",
              "      <th>education_level</th>\n",
              "      <th>major_discipline</th>\n",
              "      <th>experience</th>\n",
              "      <th>company_size</th>\n",
              "      <th>company_type</th>\n",
              "      <th>last_new_job</th>\n",
              "      <th>training_hours</th>\n",
              "      <th>target</th>\n",
              "    </tr>\n",
              "  </thead>\n",
              "  <tbody>\n",
              "    <tr>\n",
              "      <th>0</th>\n",
              "      <td>23798</td>\n",
              "      <td>city_149</td>\n",
              "      <td>0.689</td>\n",
              "      <td>1</td>\n",
              "      <td>Has relevent experience</td>\n",
              "      <td>2</td>\n",
              "      <td>0</td>\n",
              "      <td>5</td>\n",
              "      <td>13</td>\n",
              "      <td>Tier_2</td>\n",
              "      <td>5</td>\n",
              "      <td>1</td>\n",
              "      <td>106</td>\n",
              "      <td>0</td>\n",
              "    </tr>\n",
              "    <tr>\n",
              "      <th>1</th>\n",
              "      <td>29166</td>\n",
              "      <td>city_83</td>\n",
              "      <td>0.923</td>\n",
              "      <td>1</td>\n",
              "      <td>Has relevent experience</td>\n",
              "      <td>2</td>\n",
              "      <td>0</td>\n",
              "      <td>5</td>\n",
              "      <td>5</td>\n",
              "      <td>Startup</td>\n",
              "      <td>1</td>\n",
              "      <td>1</td>\n",
              "      <td>69</td>\n",
              "      <td>0</td>\n",
              "    </tr>\n",
              "    <tr>\n",
              "      <th>2</th>\n",
              "      <td>46</td>\n",
              "      <td>city_16</td>\n",
              "      <td>0.910</td>\n",
              "      <td>1</td>\n",
              "      <td>Has relevent experience</td>\n",
              "      <td>2</td>\n",
              "      <td>0</td>\n",
              "      <td>5</td>\n",
              "      <td>16</td>\n",
              "      <td>Tier_1</td>\n",
              "      <td>4</td>\n",
              "      <td>2</td>\n",
              "      <td>4</td>\n",
              "      <td>0</td>\n",
              "    </tr>\n",
              "    <tr>\n",
              "      <th>3</th>\n",
              "      <td>18527</td>\n",
              "      <td>city_64</td>\n",
              "      <td>0.666</td>\n",
              "      <td>1</td>\n",
              "      <td>Has relevent experience</td>\n",
              "      <td>2</td>\n",
              "      <td>0</td>\n",
              "      <td>5</td>\n",
              "      <td>5</td>\n",
              "      <td>Tier_1</td>\n",
              "      <td>5</td>\n",
              "      <td>1</td>\n",
              "      <td>26</td>\n",
              "      <td>0</td>\n",
              "    </tr>\n",
              "    <tr>\n",
              "      <th>4</th>\n",
              "      <td>21751</td>\n",
              "      <td>city_100</td>\n",
              "      <td>0.887</td>\n",
              "      <td>1</td>\n",
              "      <td>No relevent experience</td>\n",
              "      <td>2</td>\n",
              "      <td>2</td>\n",
              "      <td>5</td>\n",
              "      <td>18</td>\n",
              "      <td>unknown</td>\n",
              "      <td>6</td>\n",
              "      <td>2</td>\n",
              "      <td>88</td>\n",
              "      <td>1</td>\n",
              "    </tr>\n",
              "  </tbody>\n",
              "</table>\n",
              "</div>"
            ],
            "text/plain": [
              "   enrollee_id      city  ...  training_hours  target\n",
              "0        23798  city_149  ...             106       0\n",
              "1        29166   city_83  ...              69       0\n",
              "2           46   city_16  ...               4       0\n",
              "3        18527   city_64  ...              26       0\n",
              "4        21751  city_100  ...              88       1\n",
              "\n",
              "[5 rows x 14 columns]"
            ]
          },
          "metadata": {
            "tags": []
          },
          "execution_count": 100
        }
      ]
    },
    {
      "cell_type": "code",
      "metadata": {
        "id": "Au_3A4WxF2Uw",
        "colab_type": "code",
        "colab": {}
      },
      "source": [
        "https://www.geeksforgeeks.org/numpy-log-python/"
      ],
      "execution_count": 0,
      "outputs": []
    },
    {
      "cell_type": "code",
      "metadata": {
        "id": "l8j7fz2eE5JW",
        "colab_type": "code",
        "colab": {
          "base_uri": "https://localhost:8080/",
          "height": 173
        },
        "outputId": "f4ec09cc-f49c-43d4-cb13-de3aa5d2fec4"
      },
      "source": [
        "train['training_hours'] = np.log(train['training_hours'])\n",
        "train['training_hours'].describe()\n",
        "\n"
      ],
      "execution_count": 101,
      "outputs": [
        {
          "output_type": "execute_result",
          "data": {
            "text/plain": [
              "count    18359.000000\n",
              "mean         3.765266\n",
              "std          0.993060\n",
              "min          0.000000\n",
              "25%          3.135494\n",
              "50%          3.850148\n",
              "75%          4.488636\n",
              "max          5.817111\n",
              "Name: training_hours, dtype: float64"
            ]
          },
          "metadata": {
            "tags": []
          },
          "execution_count": 101
        }
      ]
    },
    {
      "cell_type": "markdown",
      "metadata": {
        "id": "G9wf661mGEfx",
        "colab_type": "text"
      },
      "source": [
        "#No Missing Values"
      ]
    },
    {
      "cell_type": "code",
      "metadata": {
        "id": "aBBdJa0rHBiR",
        "colab_type": "code",
        "colab": {}
      },
      "source": [
        "train.drop(['enrollee_id','city'],1,inplace=True)"
      ],
      "execution_count": 0,
      "outputs": []
    },
    {
      "cell_type": "code",
      "metadata": {
        "id": "tIh0kd2oGHIH",
        "colab_type": "code",
        "colab": {}
      },
      "source": [
        "df = train"
      ],
      "execution_count": 0,
      "outputs": []
    },
    {
      "cell_type": "code",
      "metadata": {
        "id": "1fGWCD5AG0Wq",
        "colab_type": "code",
        "colab": {
          "base_uri": "https://localhost:8080/",
          "height": 34
        },
        "outputId": "ecc68b50-515c-46ac-fd9c-bcf62b2b83a4"
      },
      "source": [
        "\n",
        "df = pd.get_dummies(df)\n",
        "df.shape\n",
        "\n"
      ],
      "execution_count": 106,
      "outputs": [
        {
          "output_type": "execute_result",
          "data": {
            "text/plain": [
              "(18359, 21)"
            ]
          },
          "metadata": {
            "tags": []
          },
          "execution_count": 106
        }
      ]
    },
    {
      "cell_type": "code",
      "metadata": {
        "id": "j9pk0eHzG_W3",
        "colab_type": "code",
        "colab": {
          "base_uri": "https://localhost:8080/",
          "height": 244
        },
        "outputId": "e797beba-d45c-4864-edcd-4547bd53f77a"
      },
      "source": [
        "df.head()"
      ],
      "execution_count": 107,
      "outputs": [
        {
          "output_type": "execute_result",
          "data": {
            "text/html": [
              "<div>\n",
              "<style scoped>\n",
              "    .dataframe tbody tr th:only-of-type {\n",
              "        vertical-align: middle;\n",
              "    }\n",
              "\n",
              "    .dataframe tbody tr th {\n",
              "        vertical-align: top;\n",
              "    }\n",
              "\n",
              "    .dataframe thead th {\n",
              "        text-align: right;\n",
              "    }\n",
              "</style>\n",
              "<table border=\"1\" class=\"dataframe\">\n",
              "  <thead>\n",
              "    <tr style=\"text-align: right;\">\n",
              "      <th></th>\n",
              "      <th>city_development_index</th>\n",
              "      <th>gender</th>\n",
              "      <th>enrolled_university</th>\n",
              "      <th>education_level</th>\n",
              "      <th>major_discipline</th>\n",
              "      <th>experience</th>\n",
              "      <th>company_type</th>\n",
              "      <th>last_new_job</th>\n",
              "      <th>training_hours</th>\n",
              "      <th>target</th>\n",
              "      <th>relevent_experience_Has relevent experience</th>\n",
              "      <th>relevent_experience_No relevent experience</th>\n",
              "      <th>company_size_Startup</th>\n",
              "      <th>company_size_Tier_0</th>\n",
              "      <th>company_size_Tier_1</th>\n",
              "      <th>company_size_Tier_2</th>\n",
              "      <th>company_size_Tier_3</th>\n",
              "      <th>company_size_Tier_4</th>\n",
              "      <th>company_size_Tier_5</th>\n",
              "      <th>company_size_Tier_6</th>\n",
              "      <th>company_size_unknown</th>\n",
              "    </tr>\n",
              "  </thead>\n",
              "  <tbody>\n",
              "    <tr>\n",
              "      <th>0</th>\n",
              "      <td>0.689</td>\n",
              "      <td>1</td>\n",
              "      <td>2</td>\n",
              "      <td>0</td>\n",
              "      <td>5</td>\n",
              "      <td>13</td>\n",
              "      <td>5</td>\n",
              "      <td>1</td>\n",
              "      <td>4.663439</td>\n",
              "      <td>0</td>\n",
              "      <td>1</td>\n",
              "      <td>0</td>\n",
              "      <td>0</td>\n",
              "      <td>0</td>\n",
              "      <td>0</td>\n",
              "      <td>1</td>\n",
              "      <td>0</td>\n",
              "      <td>0</td>\n",
              "      <td>0</td>\n",
              "      <td>0</td>\n",
              "      <td>0</td>\n",
              "    </tr>\n",
              "    <tr>\n",
              "      <th>1</th>\n",
              "      <td>0.923</td>\n",
              "      <td>1</td>\n",
              "      <td>2</td>\n",
              "      <td>0</td>\n",
              "      <td>5</td>\n",
              "      <td>5</td>\n",
              "      <td>1</td>\n",
              "      <td>1</td>\n",
              "      <td>4.234107</td>\n",
              "      <td>0</td>\n",
              "      <td>1</td>\n",
              "      <td>0</td>\n",
              "      <td>1</td>\n",
              "      <td>0</td>\n",
              "      <td>0</td>\n",
              "      <td>0</td>\n",
              "      <td>0</td>\n",
              "      <td>0</td>\n",
              "      <td>0</td>\n",
              "      <td>0</td>\n",
              "      <td>0</td>\n",
              "    </tr>\n",
              "    <tr>\n",
              "      <th>2</th>\n",
              "      <td>0.910</td>\n",
              "      <td>1</td>\n",
              "      <td>2</td>\n",
              "      <td>0</td>\n",
              "      <td>5</td>\n",
              "      <td>16</td>\n",
              "      <td>4</td>\n",
              "      <td>2</td>\n",
              "      <td>1.386294</td>\n",
              "      <td>0</td>\n",
              "      <td>1</td>\n",
              "      <td>0</td>\n",
              "      <td>0</td>\n",
              "      <td>0</td>\n",
              "      <td>1</td>\n",
              "      <td>0</td>\n",
              "      <td>0</td>\n",
              "      <td>0</td>\n",
              "      <td>0</td>\n",
              "      <td>0</td>\n",
              "      <td>0</td>\n",
              "    </tr>\n",
              "    <tr>\n",
              "      <th>3</th>\n",
              "      <td>0.666</td>\n",
              "      <td>1</td>\n",
              "      <td>2</td>\n",
              "      <td>0</td>\n",
              "      <td>5</td>\n",
              "      <td>5</td>\n",
              "      <td>5</td>\n",
              "      <td>1</td>\n",
              "      <td>3.258097</td>\n",
              "      <td>0</td>\n",
              "      <td>1</td>\n",
              "      <td>0</td>\n",
              "      <td>0</td>\n",
              "      <td>0</td>\n",
              "      <td>1</td>\n",
              "      <td>0</td>\n",
              "      <td>0</td>\n",
              "      <td>0</td>\n",
              "      <td>0</td>\n",
              "      <td>0</td>\n",
              "      <td>0</td>\n",
              "    </tr>\n",
              "    <tr>\n",
              "      <th>4</th>\n",
              "      <td>0.887</td>\n",
              "      <td>1</td>\n",
              "      <td>2</td>\n",
              "      <td>2</td>\n",
              "      <td>5</td>\n",
              "      <td>18</td>\n",
              "      <td>6</td>\n",
              "      <td>2</td>\n",
              "      <td>4.477337</td>\n",
              "      <td>1</td>\n",
              "      <td>0</td>\n",
              "      <td>1</td>\n",
              "      <td>0</td>\n",
              "      <td>0</td>\n",
              "      <td>0</td>\n",
              "      <td>0</td>\n",
              "      <td>0</td>\n",
              "      <td>0</td>\n",
              "      <td>0</td>\n",
              "      <td>0</td>\n",
              "      <td>1</td>\n",
              "    </tr>\n",
              "  </tbody>\n",
              "</table>\n",
              "</div>"
            ],
            "text/plain": [
              "   city_development_index  gender  ...  company_size_Tier_6  company_size_unknown\n",
              "0                   0.689       1  ...                    0                     0\n",
              "1                   0.923       1  ...                    0                     0\n",
              "2                   0.910       1  ...                    0                     0\n",
              "3                   0.666       1  ...                    0                     0\n",
              "4                   0.887       1  ...                    0                     1\n",
              "\n",
              "[5 rows x 21 columns]"
            ]
          },
          "metadata": {
            "tags": []
          },
          "execution_count": 107
        }
      ]
    },
    {
      "cell_type": "markdown",
      "metadata": {
        "id": "lDePO9_CHXns",
        "colab_type": "text"
      },
      "source": [
        "#Model"
      ]
    },
    {
      "cell_type": "code",
      "metadata": {
        "id": "3JDph22EH8yC",
        "colab_type": "code",
        "colab": {
          "base_uri": "https://localhost:8080/",
          "height": 72
        },
        "outputId": "b93f2386-3771-4188-f46c-0306435cf5a7"
      },
      "source": [
        "import numpy as np\n",
        "import pandas as pd\n",
        "import seaborn as sns\n",
        "import matplotlib.pyplot as plt\n",
        "import scipy.stats as st\n",
        "from sklearn.model_selection import train_test_split,KFold,StratifiedKFold,GridSearchCV,RandomizedSearchCV,cross_val_score\n",
        "from sklearn.ensemble import RandomForestClassifier,BaggingClassifier,AdaBoostClassifier,GradientBoostingClassifier,RandomForestRegressor,BaggingRegressor,AdaBoostRegressor,GradientBoostingRegressor\n",
        "from sklearn.linear_model import LinearRegression,LogisticRegression,Lasso, Ridge\n",
        "from sklearn.tree import DecisionTreeClassifier,DecisionTreeRegressor\n",
        "from sklearn.naive_bayes import GaussianNB\n",
        "from sklearn.neighbors import KNeighborsClassifier,KNeighborsRegressor\n",
        "import sklearn.metrics as metrics\n",
        "from sklearn.metrics import r2_score,roc_auc_score,classification_report,mean_squared_error,accuracy_score,confusion_matrix\n",
        "import warnings\n",
        "warnings.filterwarnings('ignore')"
      ],
      "execution_count": 109,
      "outputs": [
        {
          "output_type": "stream",
          "text": [
            "/usr/local/lib/python3.6/dist-packages/statsmodels/tools/_testing.py:19: FutureWarning: pandas.util.testing is deprecated. Use the functions in the public API at pandas.testing instead.\n",
            "  import pandas.util.testing as tm\n"
          ],
          "name": "stderr"
        }
      ]
    },
    {
      "cell_type": "code",
      "metadata": {
        "id": "8Vf7c4ibHZ4c",
        "colab_type": "code",
        "colab": {
          "base_uri": "https://localhost:8080/",
          "height": 300
        },
        "outputId": "e8528a9f-16f7-4a2e-ceb2-015d2160d7cb"
      },
      "source": [
        "#set seed for same results everytime\n",
        "seed=0\n",
        "import sklearn.ensemble as ensemble\n",
        "import sklearn.metrics as metrics\n",
        "\n",
        "X=df.drop('target',1)\n",
        "y=df['target']\n",
        "X_train, X_test, y_train, y_test = train_test_split(X,y, test_size = 0.2, random_state =1)\n",
        "\n",
        "#declare the models\n",
        "lr = LogisticRegression()\n",
        "rf=RandomForestClassifier()\n",
        "adb=ensemble.AdaBoostClassifier()\n",
        "bgc=ensemble.BaggingClassifier()\n",
        "gnb = GaussianNB()\n",
        "knn=KNeighborsClassifier()\n",
        "dt = DecisionTreeClassifier()\n",
        "# ab_rf = AdaBoostClassifier(base_estimator=rf,random_state=0)\n",
        "# ab_dt = AdaBoostClassifier(base_estimator=dt,random_state=0)\n",
        "# ab_nb=  AdaBoostClassifier(base_estimator=gnb,random_state=0)\n",
        "# ab_lr=  AdaBoostClassifier(base_estimator=lr,random_state=0)\n",
        "bgcl_lr = BaggingClassifier(base_estimator=lr, random_state=0)\n",
        "\n",
        "# ,ab_rf,ab_dt,ab_nb,ab_lr,bgcl_lr\n",
        "\n",
        "models=[lr,rf,adb,bgc,gnb,knn,dt,bgcl_lr]\n",
        "sctr,scte,auc,ps,rs=[],[],[],[],[]\n",
        "def ens(X_train,X_test, y_train, y_test):\n",
        "    for model in models:\n",
        "            model.fit(X_train, y_train)\n",
        "            y_test_pred = model.predict(X_test)\n",
        "            #predict(self, X) Predict class labels for samples in X.\n",
        "          \n",
        "            y_test_pred_new=model.predict_proba(X_test)\n",
        "            # #predict_proba(self, X) Probability estimates.\n",
        "            y_test_pred_new=y_test_pred_new[:,1]\n",
        "            train_score=model.score(X_train,y_train)\n",
        "            test_score=model.score(X_test,y_test)\n",
        "            p_score=metrics.precision_score(y_test,y_test_pred)\n",
        "            r_score=metrics.recall_score(y_test,y_test_pred)\n",
        "            \n",
        "            ac=metrics.roc_auc_score(y_test,y_test_pred_new)\n",
        "            \n",
        "            sctr.append(train_score)\n",
        "            scte.append(test_score)\n",
        "            ps.append(p_score)\n",
        "            rs.append(r_score)\n",
        "            auc.append(ac)\n",
        "    return sctr,scte,auc,ps,rs\n",
        "ens(X_train,X_test, y_train, y_test)\n",
        "# 'ab_rf','ab_dt','ab_nb','ab_lr','bgcl_lr'\n",
        "ensemble=pd.DataFrame({'names':['Logistic Regression','Random Forest','Ada boost','Bagging',\n",
        "                                'Naive-Bayes','KNN','Decistion Tree',\n",
        "                                'bagged LR'],\n",
        "                       'auc_score':auc,'training':sctr,'testing':scte,'precision':ps,'recall':rs})\n",
        "ensemble=ensemble.sort_values(by='auc_score',ascending=False).reset_index(drop=True)\n",
        "ensemble"
      ],
      "execution_count": 119,
      "outputs": [
        {
          "output_type": "execute_result",
          "data": {
            "text/html": [
              "<div>\n",
              "<style scoped>\n",
              "    .dataframe tbody tr th:only-of-type {\n",
              "        vertical-align: middle;\n",
              "    }\n",
              "\n",
              "    .dataframe tbody tr th {\n",
              "        vertical-align: top;\n",
              "    }\n",
              "\n",
              "    .dataframe thead th {\n",
              "        text-align: right;\n",
              "    }\n",
              "</style>\n",
              "<table border=\"1\" class=\"dataframe\">\n",
              "  <thead>\n",
              "    <tr style=\"text-align: right;\">\n",
              "      <th></th>\n",
              "      <th>names</th>\n",
              "      <th>auc_score</th>\n",
              "      <th>training</th>\n",
              "      <th>testing</th>\n",
              "      <th>precision</th>\n",
              "      <th>recall</th>\n",
              "    </tr>\n",
              "  </thead>\n",
              "  <tbody>\n",
              "    <tr>\n",
              "      <th>0</th>\n",
              "      <td>Ada boost</td>\n",
              "      <td>0.658746</td>\n",
              "      <td>0.866617</td>\n",
              "      <td>0.870643</td>\n",
              "      <td>0.142857</td>\n",
              "      <td>0.002128</td>\n",
              "    </tr>\n",
              "    <tr>\n",
              "      <th>1</th>\n",
              "      <td>bagged LR</td>\n",
              "      <td>0.642673</td>\n",
              "      <td>0.866957</td>\n",
              "      <td>0.872004</td>\n",
              "      <td>0.000000</td>\n",
              "      <td>0.000000</td>\n",
              "    </tr>\n",
              "    <tr>\n",
              "      <th>2</th>\n",
              "      <td>Logistic Regression</td>\n",
              "      <td>0.641915</td>\n",
              "      <td>0.866957</td>\n",
              "      <td>0.872004</td>\n",
              "      <td>0.000000</td>\n",
              "      <td>0.000000</td>\n",
              "    </tr>\n",
              "    <tr>\n",
              "      <th>3</th>\n",
              "      <td>Naive-Bayes</td>\n",
              "      <td>0.615181</td>\n",
              "      <td>0.793423</td>\n",
              "      <td>0.798747</td>\n",
              "      <td>0.211991</td>\n",
              "      <td>0.210638</td>\n",
              "    </tr>\n",
              "    <tr>\n",
              "      <th>4</th>\n",
              "      <td>Random Forest</td>\n",
              "      <td>0.598095</td>\n",
              "      <td>0.998706</td>\n",
              "      <td>0.861111</td>\n",
              "      <td>0.187500</td>\n",
              "      <td>0.025532</td>\n",
              "    </tr>\n",
              "    <tr>\n",
              "      <th>5</th>\n",
              "      <td>Bagging</td>\n",
              "      <td>0.573301</td>\n",
              "      <td>0.976782</td>\n",
              "      <td>0.855120</td>\n",
              "      <td>0.196078</td>\n",
              "      <td>0.042553</td>\n",
              "    </tr>\n",
              "    <tr>\n",
              "      <th>6</th>\n",
              "      <td>KNN</td>\n",
              "      <td>0.556839</td>\n",
              "      <td>0.874651</td>\n",
              "      <td>0.856209</td>\n",
              "      <td>0.204082</td>\n",
              "      <td>0.042553</td>\n",
              "    </tr>\n",
              "    <tr>\n",
              "      <th>7</th>\n",
              "      <td>Decistion Tree</td>\n",
              "      <td>0.528166</td>\n",
              "      <td>0.998774</td>\n",
              "      <td>0.781318</td>\n",
              "      <td>0.172888</td>\n",
              "      <td>0.187234</td>\n",
              "    </tr>\n",
              "  </tbody>\n",
              "</table>\n",
              "</div>"
            ],
            "text/plain": [
              "                 names  auc_score  training   testing  precision    recall\n",
              "0            Ada boost   0.658746  0.866617  0.870643   0.142857  0.002128\n",
              "1            bagged LR   0.642673  0.866957  0.872004   0.000000  0.000000\n",
              "2  Logistic Regression   0.641915  0.866957  0.872004   0.000000  0.000000\n",
              "3          Naive-Bayes   0.615181  0.793423  0.798747   0.211991  0.210638\n",
              "4        Random Forest   0.598095  0.998706  0.861111   0.187500  0.025532\n",
              "5              Bagging   0.573301  0.976782  0.855120   0.196078  0.042553\n",
              "6                  KNN   0.556839  0.874651  0.856209   0.204082  0.042553\n",
              "7       Decistion Tree   0.528166  0.998774  0.781318   0.172888  0.187234"
            ]
          },
          "metadata": {
            "tags": []
          },
          "execution_count": 119
        }
      ]
    },
    {
      "cell_type": "markdown",
      "metadata": {
        "id": "uesNPAKSK2K2",
        "colab_type": "text"
      },
      "source": [
        "# SMOTE:Data Balancing"
      ]
    },
    {
      "cell_type": "code",
      "metadata": {
        "id": "Vm4lgQVXH6uM",
        "colab_type": "code",
        "colab": {}
      },
      "source": [
        "from imblearn.over_sampling import SMOTE\n",
        "\n",
        "oversample = SMOTE()\n",
        "X_smote, y_smote = oversample.fit_resample(X, y)"
      ],
      "execution_count": 0,
      "outputs": []
    },
    {
      "cell_type": "code",
      "metadata": {
        "id": "rBWsQ9r3JIf0",
        "colab_type": "code",
        "colab": {}
      },
      "source": [
        ""
      ],
      "execution_count": 0,
      "outputs": []
    }
  ]
}